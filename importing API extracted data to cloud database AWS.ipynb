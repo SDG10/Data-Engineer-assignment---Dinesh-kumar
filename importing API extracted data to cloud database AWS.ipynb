{
 "cells": [
  {
   "cell_type": "code",
   "execution_count": 1,
   "metadata": {
    "scrolled": true
   },
   "outputs": [],
   "source": [
    "#if psycopg2 is not installed already then below\n",
    "#!pip install psycopg2\n",
    "import psycopg2 as ps\n",
    "import pandas as pd"
   ]
  },
  {
   "cell_type": "code",
   "execution_count": 2,
   "metadata": {},
   "outputs": [],
   "source": [
    "#this function will connect to AWS database\n",
    "def connect_to_db(host_name,dbname,port,username,password):  \n",
    "    try:\n",
    "        conn = ps.connect(host=host_name,database=dbname,user=username,password=password,port=port)\n",
    "    except ps.OperationalError as e:\n",
    "        raise e\n",
    "    else:\n",
    "        print('connected')\n",
    "    return conn"
   ]
  },
  {
   "cell_type": "code",
   "execution_count": 3,
   "metadata": {},
   "outputs": [],
   "source": [
    "# create table into database\n",
    "def create_table(curr):\n",
    "    create_table_command = (\"\"\"CREATE TABLE IF NOT EXISTS CurrentWeather (\n",
    "                            City VARCHAR(50) primary key,\n",
    "                            Temperature VARCHAR(25) NOT NULL,\n",
    "                            Pressure VARCHAR(25) NOT NULL,\n",
    "                            Humidity VARCHAR(25) NOT NULL,\n",
    "                            Wind  VARCHAR(25) NOT NULL;\n",
    "                        ) \"\"\")\n",
    "    curr.execute(create_table_command)"
   ]
  },
  {
   "cell_type": "code",
   "execution_count": 4,
   "metadata": {},
   "outputs": [],
   "source": [
    "#check if city exist in table\n",
    "def check_if_city_exist(curr, City):\n",
    "    query = (\"\"\"SELECT City FROM CurrentWeather WHERE City=%s\"\"\")\n",
    "    curr.execute(query,(City,))\n",
    "    \n",
    "    return curr.fetchone() is not None"
   ]
  },
  {
   "cell_type": "code",
   "execution_count": 5,
   "metadata": {},
   "outputs": [],
   "source": [
    "#update row if city exist in table\n",
    "def update_row(curr,City,Temperature,Pressure,Humidity,Wind):\n",
    "    query = (\"\"\"UPDATE OneCall SET Temperature=%s,Pressure=%s,Humidity=%s,Wind=%s WHERE City =%s \"\"\")\n",
    "    vars_to_update = (Temperature,Pressure,Humidity,Wind,City)\n",
    "    curr.execute(query,vars_to_update)"
   ]
  },
  {
   "cell_type": "code",
   "execution_count": 7,
   "metadata": {},
   "outputs": [],
   "source": [
    "#updating the database \n",
    "def update_db(curr,df):\n",
    "    tmp_df = pd.DataFrame(columns = [\"City\",\"Temperature\",\"Pressure\",\"Humidity\",\"Wind speed\"])\n",
    "\n",
    "    for i, row in df.iterrows():\n",
    "        if check_if_city_exist():\n",
    "            update_row(curr,row['City'],row['Temperature'],row['Pressure'],row['Humidity'],row['Wind'])\n",
    "        else:\n",
    "            tmp_df = tmp_df.append(row)\n",
    "    \n",
    "    return tmp_df"
   ]
  },
  {
   "cell_type": "code",
   "execution_count": 8,
   "metadata": {},
   "outputs": [],
   "source": [
    "#insert commond\n",
    "def insert_into_table(curr,City,Temperature,Pressure,Humidity,Wind):\n",
    "    insert_into_CurrentWeather = (\"\"\"INSERT INTO CurrentWeather (City,Temperature,Pressure,Humidity,WindCity,Temperature,Pressure,Humidity,Wind) \n",
    "                                    VALUES(%s,%s,%s,%s,%s.);\"\"\")\n",
    "    row_to_insert = (City,Temperature,Pressure,Humidity,Wind)\n",
    "    curr.execute(insert_into_CurrentWeather,row_to_insert)"
   ]
  },
  {
   "cell_type": "code",
   "execution_count": 9,
   "metadata": {},
   "outputs": [],
   "source": [
    "def append_from_df_to_db(curr,df):\n",
    "    for i, row in df.iterrows():\n",
    "        insert_into_table(curr,row['City'],row['Temperature'],row['Pressure'],row['Humidity'],row['Wind'])"
   ]
  },
  {
   "cell_type": "code",
   "execution_count": 10,
   "metadata": {},
   "outputs": [
    {
     "data": {
      "text/html": [
       "<div>\n",
       "<style scoped>\n",
       "    .dataframe tbody tr th:only-of-type {\n",
       "        vertical-align: middle;\n",
       "    }\n",
       "\n",
       "    .dataframe tbody tr th {\n",
       "        vertical-align: top;\n",
       "    }\n",
       "\n",
       "    .dataframe thead th {\n",
       "        text-align: right;\n",
       "    }\n",
       "</style>\n",
       "<table border=\"1\" class=\"dataframe\">\n",
       "  <thead>\n",
       "    <tr style=\"text-align: right;\">\n",
       "      <th></th>\n",
       "      <th>Temperature</th>\n",
       "      <th>Visibility</th>\n",
       "      <th>Wind speed</th>\n",
       "      <th>Clouds</th>\n",
       "    </tr>\n",
       "  </thead>\n",
       "  <tbody>\n",
       "    <tr>\n",
       "      <th>0</th>\n",
       "      <td>84.0</td>\n",
       "      <td>10000.0</td>\n",
       "      <td>4.12</td>\n",
       "      <td>40.0</td>\n",
       "    </tr>\n",
       "    <tr>\n",
       "      <th>1</th>\n",
       "      <td>85.0</td>\n",
       "      <td>2500.0</td>\n",
       "      <td>4.12</td>\n",
       "      <td>75.0</td>\n",
       "    </tr>\n",
       "    <tr>\n",
       "      <th>2</th>\n",
       "      <td>74.0</td>\n",
       "      <td>10000.0</td>\n",
       "      <td>0.89</td>\n",
       "      <td>1.0</td>\n",
       "    </tr>\n",
       "    <tr>\n",
       "      <th>3</th>\n",
       "      <td>106.0</td>\n",
       "      <td>8000.0</td>\n",
       "      <td>4.63</td>\n",
       "      <td>0.0</td>\n",
       "    </tr>\n",
       "    <tr>\n",
       "      <th>4</th>\n",
       "      <td>66.0</td>\n",
       "      <td>10000.0</td>\n",
       "      <td>2.57</td>\n",
       "      <td>40.0</td>\n",
       "    </tr>\n",
       "    <tr>\n",
       "      <th>5</th>\n",
       "      <td>62.0</td>\n",
       "      <td>8047.0</td>\n",
       "      <td>1.79</td>\n",
       "      <td>90.0</td>\n",
       "    </tr>\n",
       "  </tbody>\n",
       "</table>\n",
       "</div>"
      ],
      "text/plain": [
       "   Temperature  Visibility  Wind speed  Clouds\n",
       "0         84.0     10000.0        4.12    40.0\n",
       "1         85.0      2500.0        4.12    75.0\n",
       "2         74.0     10000.0        0.89     1.0\n",
       "3        106.0      8000.0        4.63     0.0\n",
       "4         66.0     10000.0        2.57    40.0\n",
       "5         62.0      8047.0        1.79    90.0"
      ]
     },
     "execution_count": 10,
     "metadata": {},
     "output_type": "execute_result"
    }
   ],
   "source": [
    "df = pd.read_csv('Current_Weather_API.csv',index_col=0)\n",
    "df"
   ]
  },
  {
   "cell_type": "code",
   "execution_count": null,
   "metadata": {},
   "outputs": [],
   "source": [
    "host_name = \"\"     #enter your host name\n",
    "dbname = \"\"     #enter your database name\n",
    "port = ''    #enter your port \n",
    "username = ''   #enter your username\n",
    "password = ''   #enter your password\n",
    "conn = None \n",
    "\n",
    "#this call will go to connect_to_db function and try to connect to database\n",
    "conn = connect_to_db(host_name,dbname,port,username,password)"
   ]
  },
  {
   "cell_type": "code",
   "execution_count": null,
   "metadata": {},
   "outputs": [],
   "source": [
    "curr = conn.cursor()"
   ]
  },
  {
   "cell_type": "code",
   "execution_count": null,
   "metadata": {},
   "outputs": [],
   "source": [
    "#this will create the table into database\n",
    "create_table(curr)"
   ]
  },
  {
   "cell_type": "code",
   "execution_count": null,
   "metadata": {},
   "outputs": [],
   "source": [
    "new_city_df = update_db(curr, df)"
   ]
  },
  {
   "cell_type": "code",
   "execution_count": null,
   "metadata": {},
   "outputs": [],
   "source": [
    "append_from_df_to_db(curr,new_city_df)"
   ]
  },
  {
   "cell_type": "code",
   "execution_count": null,
   "metadata": {},
   "outputs": [],
   "source": [
    "conn.commit()"
   ]
  }
 ],
 "metadata": {
  "kernelspec": {
   "display_name": "Python 3",
   "language": "python",
   "name": "python3"
  },
  "language_info": {
   "codemirror_mode": {
    "name": "ipython",
    "version": 3
   },
   "file_extension": ".py",
   "mimetype": "text/x-python",
   "name": "python",
   "nbconvert_exporter": "python",
   "pygments_lexer": "ipython3",
   "version": "3.7.3"
  }
 },
 "nbformat": 4,
 "nbformat_minor": 2
}
