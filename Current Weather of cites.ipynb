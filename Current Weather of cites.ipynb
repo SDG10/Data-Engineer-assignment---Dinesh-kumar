{
 "cells": [
  {
   "cell_type": "code",
   "execution_count": 1,
   "metadata": {},
   "outputs": [],
   "source": [
    "import requests\n",
    "import math\n",
    "import time\n",
    "import pandas as pd"
   ]
  },
  {
   "cell_type": "code",
   "execution_count": 2,
   "metadata": {},
   "outputs": [],
   "source": [
    "API_KEY = \" \"  #please add your API Key here\n",
    "City_name = [\"Bangalore\",\"Mumbai\",\"New York\",\"Dubai\",\"London\",\"Mexico City\"] #please your list cites in this list"
   ]
  },
  {
   "cell_type": "code",
   "execution_count": 3,
   "metadata": {},
   "outputs": [],
   "source": [
    "#Current Weather API\n",
    "def get_current_weather(df):\n",
    "    for city in City_name:\n",
    "        \n",
    "        #API get request\n",
    "        url = f\"https://api.openweathermap.org/data/2.5/weather?q={city}&appid={API_KEY}\"\n",
    "        response = requests.get(url).json()\n",
    "        time.sleep(1) #wait for 1sec API request to completed\n",
    "        \n",
    "        temp = response['main']['temp']\n",
    "        temp = str(math.floor((temp * 1.8)-459.67))+ '°F/ '+str(math.floor(temp-273.15))+'°C' \n",
    "        \n",
    "        visibility = response['visibility']\n",
    "        visibility = str(visibility/1000)+'km'\n",
    "        \n",
    "        wind = response['wind']['speed']\n",
    "        wind = str(wind)+'m/s'\n",
    "        \n",
    "        clouds = response['weather'][0]['description']\n",
    "        \n",
    "        #saving data into pandas df\n",
    "        df = df.append({\"City\":city,\"Temperature\":temp,\"Visibility\":visibility,\"Wind speed\":wind,\"Clouds\":clouds},ignore_index = True)\n",
    "    return df"
   ]
  },
  {
   "cell_type": "code",
   "execution_count": 7,
   "metadata": {},
   "outputs": [],
   "source": [
    "# main \n",
    "df = pd.DataFrame(columns = [\"City\",\"Temperature\",\"Visibility\" ,\"Wind speed\",\"Clouds\"])\n",
    "#Current Weather API\n",
    "df = get_current_weather(df)"
   ]
  },
  {
   "cell_type": "code",
   "execution_count": 8,
   "metadata": {
    "scrolled": true
   },
   "outputs": [
    {
     "data": {
      "text/html": [
       "<div>\n",
       "<style scoped>\n",
       "    .dataframe tbody tr th:only-of-type {\n",
       "        vertical-align: middle;\n",
       "    }\n",
       "\n",
       "    .dataframe tbody tr th {\n",
       "        vertical-align: top;\n",
       "    }\n",
       "\n",
       "    .dataframe thead th {\n",
       "        text-align: right;\n",
       "    }\n",
       "</style>\n",
       "<table border=\"1\" class=\"dataframe\">\n",
       "  <thead>\n",
       "    <tr style=\"text-align: right;\">\n",
       "      <th></th>\n",
       "      <th>City</th>\n",
       "      <th>Temperature</th>\n",
       "      <th>Visibility</th>\n",
       "      <th>Wind speed</th>\n",
       "      <th>Clouds</th>\n",
       "    </tr>\n",
       "  </thead>\n",
       "  <tbody>\n",
       "    <tr>\n",
       "      <th>0</th>\n",
       "      <td>Bangalore</td>\n",
       "      <td>77°F/ 25°C</td>\n",
       "      <td>6.0km</td>\n",
       "      <td>4.12m/s</td>\n",
       "      <td>broken clouds</td>\n",
       "    </tr>\n",
       "    <tr>\n",
       "      <th>1</th>\n",
       "      <td>Mumbai</td>\n",
       "      <td>85°F/ 29°C</td>\n",
       "      <td>6.0km</td>\n",
       "      <td>3.09m/s</td>\n",
       "      <td>broken clouds</td>\n",
       "    </tr>\n",
       "    <tr>\n",
       "      <th>2</th>\n",
       "      <td>New York</td>\n",
       "      <td>72°F/ 22°C</td>\n",
       "      <td>9.656km</td>\n",
       "      <td>0.89m/s</td>\n",
       "      <td>mist</td>\n",
       "    </tr>\n",
       "    <tr>\n",
       "      <th>3</th>\n",
       "      <td>Dubai</td>\n",
       "      <td>107°F/ 42°C</td>\n",
       "      <td>10.0km</td>\n",
       "      <td>7.2m/s</td>\n",
       "      <td>clear sky</td>\n",
       "    </tr>\n",
       "    <tr>\n",
       "      <th>4</th>\n",
       "      <td>London</td>\n",
       "      <td>68°F/ 20°C</td>\n",
       "      <td>10.0km</td>\n",
       "      <td>3.09m/s</td>\n",
       "      <td>broken clouds</td>\n",
       "    </tr>\n",
       "    <tr>\n",
       "      <th>5</th>\n",
       "      <td>Mexico City</td>\n",
       "      <td>58°F/ 14°C</td>\n",
       "      <td>9.656km</td>\n",
       "      <td>2.24m/s</td>\n",
       "      <td>light rain</td>\n",
       "    </tr>\n",
       "  </tbody>\n",
       "</table>\n",
       "</div>"
      ],
      "text/plain": [
       "          City  Temperature Visibility Wind speed         Clouds\n",
       "0    Bangalore   77°F/ 25°C      6.0km    4.12m/s  broken clouds\n",
       "1       Mumbai   85°F/ 29°C      6.0km    3.09m/s  broken clouds\n",
       "2     New York   72°F/ 22°C    9.656km    0.89m/s           mist\n",
       "3        Dubai  107°F/ 42°C     10.0km     7.2m/s      clear sky\n",
       "4       London   68°F/ 20°C     10.0km    3.09m/s  broken clouds\n",
       "5  Mexico City   58°F/ 14°C    9.656km    2.24m/s     light rain"
      ]
     },
     "execution_count": 8,
     "metadata": {},
     "output_type": "execute_result"
    }
   ],
   "source": [
    "df"
   ]
  },
  {
   "cell_type": "code",
   "execution_count": null,
   "metadata": {},
   "outputs": [],
   "source": [
    "#this loop will call API every 5 minutes for forever\n",
    "while True:\n",
    "    time.sleep(300)  # 300sec = 5 min \n",
    "\n",
    "    df = pd.DataFrame(columns = [\"City\",\"Temperature\",\"Visibility\" ,\"Wind speed\",\"Clouds\"])\n",
    "    #Current Weather API\n",
    "    df = get_current_weather(df)\n",
    "    print(df)"
   ]
  },
  {
   "cell_type": "code",
   "execution_count": 9,
   "metadata": {},
   "outputs": [],
   "source": [
    "df.to_csv('Current_Weather_API.csv')"
   ]
  }
 ],
 "metadata": {
  "kernelspec": {
   "display_name": "Python 3",
   "language": "python",
   "name": "python3"
  },
  "language_info": {
   "codemirror_mode": {
    "name": "ipython",
    "version": 3
   },
   "file_extension": ".py",
   "mimetype": "text/x-python",
   "name": "python",
   "nbconvert_exporter": "python",
   "pygments_lexer": "ipython3",
   "version": "3.7.3"
  }
 },
 "nbformat": 4,
 "nbformat_minor": 2
}
