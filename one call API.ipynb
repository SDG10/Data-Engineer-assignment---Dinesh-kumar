{
 "cells": [
  {
   "cell_type": "code",
   "execution_count": 1,
   "metadata": {},
   "outputs": [],
   "source": [
    "import requests\n",
    "import math\n",
    "import time\n",
    "import pandas as pd"
   ]
  },
  {
   "cell_type": "code",
   "execution_count": 2,
   "metadata": {},
   "outputs": [],
   "source": [
    "API_KEY = \"\"  #please add your API Key here\n",
    "part = \"hourly,daily\"  #this is a variable peramiter of URL in get_OneCallApi fn\n",
    "lon_list = [77.6033,72.8479,-74.0060,55.3047,-0.1257,-99.1277]\n",
    "lat_list = [12.9762,19.0144,40.7143,25.2582,51.5085,19.4285]\n",
    "# lon_list contains longitude of the city and lat_list contains latitude of respactive city"
   ]
  },
  {
   "cell_type": "code",
   "execution_count": 31,
   "metadata": {},
   "outputs": [],
   "source": [
    "#one call API\n",
    "def get_OneCallApi(data):\n",
    "    ctr = 0 # this ctr(counter) variable helps for loop to get same index data. eg-(0,0) or (3,3) so that both the for loops pick right latitude and longitude for city.\n",
    "    for lon in lon_list:\n",
    "        for lat in lat_list[ctr:ctr+1]:\n",
    "            url = f\"https://api.openweathermap.org/data/2.5/onecall?lat={lat}&lon={lon}&exclude={part}&appid={API_KEY}\"\n",
    "            response = requests.get(url).json()\n",
    "            time.sleep(1) #wait for 1sec API request to completed\n",
    "            \n",
    "            temp = response['current']['temp']\n",
    "            temp = str(math.floor((temp * 1.8)-459.67))+ '°F/ '+str(math.floor(temp-273.15))+'°C'\n",
    "            \n",
    "            \n",
    "            pressure =response['current']['pressure']\n",
    "            pressure = str(pressure)+'hPa'\n",
    "        \n",
    "            humidity = response['current']['humidity']\n",
    "            humidity = str(humidity)+'%'\n",
    "            \n",
    "            wind = response['current']['wind_speed']\n",
    "            wind = str(wind)+'m/s'\n",
    "            \n",
    "            #this will append data into dataframe\n",
    "            data = data.append({\"Temperature\":temp,\"Pressure\":pressure,\"Humidity\":humidity,\"Wind speed\":wind},ignore_index=True)\n",
    "            \n",
    "            ctr=ctr+1\n",
    "    return data"
   ]
  },
  {
   "cell_type": "code",
   "execution_count": 54,
   "metadata": {},
   "outputs": [],
   "source": [
    "#main function - \n",
    "data = pd.DataFrame(columns = [\"Temperature\",\"Pressure\",\"Humidity\",\"Wind speed\"]) \n",
    "data = get_OneCallApi(data)    #this will call get_OneCallApi function to get data from api\n",
    "data.insert(loc=0, column=\"City\", value=[\"Bangalore\",\"Mumbai\",\"New York\",\"Dubai\",\"London\",\"Mexico City\"]) #to add a column of city name \n"
   ]
  },
  {
   "cell_type": "code",
   "execution_count": 55,
   "metadata": {},
   "outputs": [
    {
     "data": {
      "text/html": [
       "<div>\n",
       "<style scoped>\n",
       "    .dataframe tbody tr th:only-of-type {\n",
       "        vertical-align: middle;\n",
       "    }\n",
       "\n",
       "    .dataframe tbody tr th {\n",
       "        vertical-align: top;\n",
       "    }\n",
       "\n",
       "    .dataframe thead th {\n",
       "        text-align: right;\n",
       "    }\n",
       "</style>\n",
       "<table border=\"1\" class=\"dataframe\">\n",
       "  <thead>\n",
       "    <tr style=\"text-align: right;\">\n",
       "      <th></th>\n",
       "      <th>City</th>\n",
       "      <th>Temperature</th>\n",
       "      <th>Pressure</th>\n",
       "      <th>Humidity</th>\n",
       "      <th>Wind speed</th>\n",
       "    </tr>\n",
       "  </thead>\n",
       "  <tbody>\n",
       "    <tr>\n",
       "      <th>0</th>\n",
       "      <td>Bangalore</td>\n",
       "      <td>78°F/ 25°C</td>\n",
       "      <td>953hPa</td>\n",
       "      <td>72%</td>\n",
       "      <td>4.12m/s</td>\n",
       "    </tr>\n",
       "    <tr>\n",
       "      <th>1</th>\n",
       "      <td>Mumbai</td>\n",
       "      <td>82°F/ 27°C</td>\n",
       "      <td>1003hPa</td>\n",
       "      <td>94%</td>\n",
       "      <td>2.57m/s</td>\n",
       "    </tr>\n",
       "    <tr>\n",
       "      <th>2</th>\n",
       "      <td>New York</td>\n",
       "      <td>71°F/ 21°C</td>\n",
       "      <td>1018hPa</td>\n",
       "      <td>89%</td>\n",
       "      <td>2.06m/s</td>\n",
       "    </tr>\n",
       "    <tr>\n",
       "      <th>3</th>\n",
       "      <td>Dubai</td>\n",
       "      <td>107°F/ 41°C</td>\n",
       "      <td>997hPa</td>\n",
       "      <td>23%</td>\n",
       "      <td>5.14m/s</td>\n",
       "    </tr>\n",
       "    <tr>\n",
       "      <th>4</th>\n",
       "      <td>London</td>\n",
       "      <td>57°F/ 13°C</td>\n",
       "      <td>1016hPa</td>\n",
       "      <td>93%</td>\n",
       "      <td>2.57m/s</td>\n",
       "    </tr>\n",
       "    <tr>\n",
       "      <th>5</th>\n",
       "      <td>Mexico City</td>\n",
       "      <td>62°F/ 16°C</td>\n",
       "      <td>1022hPa</td>\n",
       "      <td>72%</td>\n",
       "      <td>3.58m/s</td>\n",
       "    </tr>\n",
       "  </tbody>\n",
       "</table>\n",
       "</div>"
      ],
      "text/plain": [
       "          City  Temperature Pressure Humidity Wind speed\n",
       "0    Bangalore   78°F/ 25°C   953hPa      72%    4.12m/s\n",
       "1       Mumbai   82°F/ 27°C  1003hPa      94%    2.57m/s\n",
       "2     New York   71°F/ 21°C  1018hPa      89%    2.06m/s\n",
       "3        Dubai  107°F/ 41°C   997hPa      23%    5.14m/s\n",
       "4       London   57°F/ 13°C  1016hPa      93%    2.57m/s\n",
       "5  Mexico City   62°F/ 16°C  1022hPa      72%    3.58m/s"
      ]
     },
     "execution_count": 55,
     "metadata": {},
     "output_type": "execute_result"
    }
   ],
   "source": [
    "data"
   ]
  },
  {
   "cell_type": "code",
   "execution_count": 303,
   "metadata": {},
   "outputs": [],
   "source": [
    "data.to_csv('OneCallApi.csv')"
   ]
  }
 ],
 "metadata": {
  "kernelspec": {
   "display_name": "Python 3",
   "language": "python",
   "name": "python3"
  },
  "language_info": {
   "codemirror_mode": {
    "name": "ipython",
    "version": 3
   },
   "file_extension": ".py",
   "mimetype": "text/x-python",
   "name": "python",
   "nbconvert_exporter": "python",
   "pygments_lexer": "ipython3",
   "version": "3.7.3"
  }
 },
 "nbformat": 4,
 "nbformat_minor": 2
}
